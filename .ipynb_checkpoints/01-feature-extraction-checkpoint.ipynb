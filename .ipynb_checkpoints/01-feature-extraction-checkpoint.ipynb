{
 "cells": [
  {
   "cell_type": "code",
   "execution_count": 99,
   "metadata": {},
   "outputs": [],
   "source": [
    "import h5py\n",
    "import numpy as np\n",
    "import pandas as pd\n",
    "import geopandas as gpd"
   ]
  },
  {
   "cell_type": "code",
   "execution_count": 100,
   "metadata": {},
   "outputs": [],
   "source": [
    "file = '../data/raw/PRS_L2D_STD_20220212112444_20220212112448_0001.he5'\n",
    "hf = h5py.File(file, 'r')"
   ]
  },
  {
   "cell_type": "code",
   "execution_count": 101,
   "metadata": {},
   "outputs": [
    {
     "name": "stdout",
     "output_type": "stream",
     "text": [
      "HDFEOS\n",
      "HDFEOS/SWATHS\n",
      "HDFEOS/SWATHS/Geocoding attributes\n",
      "HDFEOS/SWATHS/Geocoding attributes/Ancillary\n",
      "HDFEOS/SWATHS/PRS_L2D_HCO\n",
      "HDFEOS/SWATHS/PRS_L2D_HCO/Data Fields\n",
      "HDFEOS/SWATHS/PRS_L2D_HCO/Data Fields/SWIR_Cube\n",
      "HDFEOS/SWATHS/PRS_L2D_HCO/Data Fields/SWIR_PIXEL_L2_ERR_MATRIX\n",
      "HDFEOS/SWATHS/PRS_L2D_HCO/Data Fields/VNIR_Cube\n",
      "HDFEOS/SWATHS/PRS_L2D_HCO/Data Fields/VNIR_PIXEL_L2_ERR_MATRIX\n",
      "HDFEOS/SWATHS/PRS_L2D_HCO/Geocoding Model\n",
      "HDFEOS/SWATHS/PRS_L2D_HCO/Geolocation Fields\n",
      "HDFEOS/SWATHS/PRS_L2D_HCO/Geolocation Fields/Latitude\n",
      "HDFEOS/SWATHS/PRS_L2D_HCO/Geolocation Fields/Longitude\n",
      "HDFEOS/SWATHS/PRS_L2D_HCO/Geolocation Fields/Time\n",
      "HDFEOS/SWATHS/PRS_L2D_HCO/Geometric Fields\n",
      "HDFEOS/SWATHS/PRS_L2D_HCO/Geometric Fields/Observing_Angle\n",
      "HDFEOS/SWATHS/PRS_L2D_HCO/Geometric Fields/Rel_Azimuth_Angle\n",
      "HDFEOS/SWATHS/PRS_L2D_HCO/Geometric Fields/Solar_Zenith_Angle\n",
      "HDFEOS/SWATHS/PRS_L2D_PCO\n",
      "HDFEOS/SWATHS/PRS_L2D_PCO/Data Fields\n",
      "HDFEOS/SWATHS/PRS_L2D_PCO/Data Fields/Cube\n",
      "HDFEOS/SWATHS/PRS_L2D_PCO/Data Fields/PIXEL_L2_ERR_MATRIX\n",
      "HDFEOS/SWATHS/PRS_L2D_PCO/Geocoding Model\n",
      "HDFEOS/SWATHS/PRS_L2D_PCO/Geolocation Fields\n",
      "HDFEOS/SWATHS/PRS_L2D_PCO/Geolocation Fields/Latitude\n",
      "HDFEOS/SWATHS/PRS_L2D_PCO/Geolocation Fields/Longitude\n",
      "HDFEOS/SWATHS/PRS_L2D_PCO/Geolocation Fields/Time\n",
      "HDFEOS INFORMATION\n",
      "Info\n",
      "Info/Ancillary\n",
      "Info/Ancillary/GyroData\n",
      "Info/Ancillary/GyroData/Gyro_1_data_angle\n",
      "Info/Ancillary/GyroData/Gyro_1_data_byte\n",
      "Info/Ancillary/GyroData/Gyro_2_data_angle\n",
      "Info/Ancillary/GyroData/Gyro_2_data_byte\n",
      "Info/Ancillary/GyroData/Gyro_3_data_angle\n",
      "Info/Ancillary/GyroData/Gyro_3_data_byte\n",
      "Info/Ancillary/GyroData/Gyro_4_data_angle\n",
      "Info/Ancillary/GyroData/Gyro_4_data_byte\n",
      "Info/Ancillary/GyroData/Gyro_5_data_angle\n",
      "Info/Ancillary/GyroData/Gyro_5_data_byte\n",
      "Info/Ancillary/GyroData/Gyro_6_data_angle\n",
      "Info/Ancillary/GyroData/Gyro_6_data_byte\n",
      "Info/Ancillary/GyroData/Star_sensors__Gyros_Data_validity\n",
      "Info/Ancillary/PVSdata\n",
      "Info/Ancillary/PVSdata/AOCS_Stat\n",
      "Info/Ancillary/PVSdata/Clock_Bias\n",
      "Info/Ancillary/PVSdata/Clock_Bias_Rate\n",
      "Info/Ancillary/PVSdata/GPS_Time_of_Last_Position\n",
      "Info/Ancillary/PVSdata/Gdop\n",
      "Info/Ancillary/PVSdata/Number_of_Satellites\n",
      "Info/Ancillary/PVSdata/Week_Number\n",
      "Info/Ancillary/PVSdata/Wgs84_pos_x\n",
      "Info/Ancillary/PVSdata/Wgs84_pos_y\n",
      "Info/Ancillary/PVSdata/Wgs84_pos_z\n",
      "Info/Ancillary/PVSdata/Wgs84_vel_x\n",
      "Info/Ancillary/PVSdata/Wgs84_vel_y\n",
      "Info/Ancillary/PVSdata/Wgs_84_vel_z\n",
      "Info/Ancillary/StarTracker1\n",
      "Info/Ancillary/StarTracker1/NAV_APROP_EKF_values\n",
      "Info/Ancillary/StarTracker1/Navigation_time\n",
      "Info/Ancillary/StarTracker1/q_ECI_2_Body_1\n",
      "Info/Ancillary/StarTracker1/q_ECI_2_Body_2\n",
      "Info/Ancillary/StarTracker1/q_ECI_2_Body_3\n",
      "Info/Ancillary/StarTracker1/q_ECI_2_Body_4\n",
      "Info/Ancillary/StarTracker1/w_body_1\n",
      "Info/Ancillary/StarTracker1/w_body_2\n",
      "Info/Ancillary/StarTracker1/w_body_3\n",
      "Info/Ancillary/StarTracker2\n",
      "Info/Ancillary/StarTracker2/Attitude_status_ss\n",
      "Info/Ancillary/StarTracker2/Data_valid_ss\n",
      "Info/Ancillary/StarTracker2/Omega_x_ss\n",
      "Info/Ancillary/StarTracker2/Omega_y_ss\n",
      "Info/Ancillary/StarTracker2/Omega_z_ss\n",
      "Info/Ancillary/StarTracker2/Quaternion_1_ss\n",
      "Info/Ancillary/StarTracker2/Quaternion_2_ss\n",
      "Info/Ancillary/StarTracker2/Quaternion_3_ss\n",
      "Info/Ancillary/StarTracker2/Quaternion_4_ss\n",
      "Info/Ancillary/StarTracker2/Time_day_ss\n",
      "Info/Ancillary/StarTracker2/Time_msec_ss\n",
      "Info/Header\n",
      "Info/Header/FrameNumber\n",
      "Info/Header/Frame_Corrupted\n",
      "Info/Header/Frame_Missing\n",
      "KDP_AUX\n",
      "KDP_AUX/Cw_Swir_Matrix\n",
      "KDP_AUX/Cw_Vnir_Matrix\n",
      "KDP_AUX/Fwhm_Swir_Matrix\n",
      "KDP_AUX/Fwhm_Vnir_Matrix\n",
      "KDP_AUX/LOS_Pan\n",
      "KDP_AUX/LOS_Swir\n",
      "KDP_AUX/LOS_Vnir\n"
     ]
    }
   ],
   "source": [
    "def subdatasets(name):\n",
    "    print(name)\n",
    "\n",
    "hf.visit(subdatasets)"
   ]
  },
  {
   "cell_type": "markdown",
   "metadata": {},
   "source": [
    "## Lat-Lon Matrix"
   ]
  },
  {
   "cell_type": "code",
   "execution_count": 102,
   "metadata": {},
   "outputs": [
    {
     "data": {
      "text/plain": [
       "(1199, 1198)"
      ]
     },
     "execution_count": 102,
     "metadata": {},
     "output_type": "execute_result"
    }
   ],
   "source": [
    "lat = hf['HDFEOS/SWATHS/PRS_L2D_HCO/Geolocation Fields/Latitude']\n",
    "lat.shape"
   ]
  },
  {
   "cell_type": "code",
   "execution_count": 103,
   "metadata": {},
   "outputs": [
    {
     "data": {
      "text/plain": [
       "(1199, 1198)"
      ]
     },
     "execution_count": 103,
     "metadata": {},
     "output_type": "execute_result"
    }
   ],
   "source": [
    "lon = hf['HDFEOS/SWATHS/PRS_L2D_HCO/Geolocation Fields/Longitude']\n",
    "lon.shape"
   ]
  },
  {
   "cell_type": "code",
   "execution_count": 104,
   "metadata": {},
   "outputs": [],
   "source": [
    "loc_cols = {\n",
    "    'Latitude': np.array(lat).ravel(),\n",
    "    'Longitude': np.array(lon).ravel(),\n",
    "}"
   ]
  },
  {
   "cell_type": "markdown",
   "metadata": {},
   "source": [
    "## VNIR Data - 66 Bands"
   ]
  },
  {
   "cell_type": "code",
   "execution_count": 105,
   "metadata": {},
   "outputs": [
    {
     "data": {
      "text/plain": [
       "(1199, 66, 1198)"
      ]
     },
     "execution_count": 105,
     "metadata": {},
     "output_type": "execute_result"
    }
   ],
   "source": [
    "vnir = hf['HDFEOS/SWATHS/PRS_L2D_HCO/Data Fields/VNIR_Cube']\n",
    "vnir.shape"
   ]
  },
  {
   "cell_type": "code",
   "execution_count": 106,
   "metadata": {},
   "outputs": [
    {
     "data": {
      "text/plain": [
       "66"
      ]
     },
     "execution_count": 106,
     "metadata": {},
     "output_type": "execute_result"
    }
   ],
   "source": [
    "# No of bands\n",
    "vnir_bands = vnir.shape[1]\n",
    "vnir_bands"
   ]
  },
  {
   "cell_type": "code",
   "execution_count": 107,
   "metadata": {},
   "outputs": [],
   "source": [
    "vnir_cols = {}\n",
    "for band in range(vnir_bands):\n",
    "    vnir_cols[f'{band+1:03d}'] = np.array(vnir[:, band, :]).ravel()"
   ]
  },
  {
   "cell_type": "markdown",
   "metadata": {},
   "source": [
    "## SWIR Data - 173 Bands"
   ]
  },
  {
   "cell_type": "code",
   "execution_count": 108,
   "metadata": {},
   "outputs": [
    {
     "data": {
      "text/plain": [
       "(1199, 173, 1198)"
      ]
     },
     "execution_count": 108,
     "metadata": {},
     "output_type": "execute_result"
    }
   ],
   "source": [
    "swir = hf['HDFEOS/SWATHS/PRS_L2D_HCO/Data Fields/SWIR_Cube']\n",
    "swir.shape"
   ]
  },
  {
   "cell_type": "code",
   "execution_count": 109,
   "metadata": {},
   "outputs": [
    {
     "data": {
      "text/plain": [
       "173"
      ]
     },
     "execution_count": 109,
     "metadata": {},
     "output_type": "execute_result"
    }
   ],
   "source": [
    "# No of bands\n",
    "swir_bands = swir.shape[1]\n",
    "swir_bands"
   ]
  },
  {
   "cell_type": "code",
   "execution_count": 110,
   "metadata": {},
   "outputs": [],
   "source": [
    "swir_cols = {}\n",
    "for band in range(swir_bands):\n",
    "    swir_cols[f'{band+67:03d}'] = np.array(swir[:, band, :]).ravel()"
   ]
  },
  {
   "cell_type": "code",
   "execution_count": 111,
   "metadata": {},
   "outputs": [],
   "source": [
    "vnir_cols.update(swir_cols)"
   ]
  },
  {
   "cell_type": "markdown",
   "metadata": {},
   "source": [
    "## Drop Bands from the Imagery"
   ]
  },
  {
   "cell_type": "code",
   "execution_count": 112,
   "metadata": {},
   "outputs": [
    {
     "data": {
      "text/html": [
       "<div>\n",
       "<style scoped>\n",
       "    .dataframe tbody tr th:only-of-type {\n",
       "        vertical-align: middle;\n",
       "    }\n",
       "\n",
       "    .dataframe tbody tr th {\n",
       "        vertical-align: top;\n",
       "    }\n",
       "\n",
       "    .dataframe thead th {\n",
       "        text-align: right;\n",
       "    }\n",
       "</style>\n",
       "<table border=\"1\" class=\"dataframe\">\n",
       "  <thead>\n",
       "    <tr style=\"text-align: right;\">\n",
       "      <th></th>\n",
       "      <th>Bands to be dropped VNIR+ SWIR</th>\n",
       "    </tr>\n",
       "  </thead>\n",
       "  <tbody>\n",
       "    <tr>\n",
       "      <th>0</th>\n",
       "      <td>1</td>\n",
       "    </tr>\n",
       "    <tr>\n",
       "      <th>1</th>\n",
       "      <td>2</td>\n",
       "    </tr>\n",
       "    <tr>\n",
       "      <th>2</th>\n",
       "      <td>3</td>\n",
       "    </tr>\n",
       "    <tr>\n",
       "      <th>3</th>\n",
       "      <td>4</td>\n",
       "    </tr>\n",
       "    <tr>\n",
       "      <th>4</th>\n",
       "      <td>5</td>\n",
       "    </tr>\n",
       "  </tbody>\n",
       "</table>\n",
       "</div>"
      ],
      "text/plain": [
       "   Bands to be dropped VNIR+ SWIR\n",
       "0                               1\n",
       "1                               2\n",
       "2                               3\n",
       "3                               4\n",
       "4                               5"
      ]
     },
     "execution_count": 112,
     "metadata": {},
     "output_type": "execute_result"
    }
   ],
   "source": [
    "xl = pd.read_excel('../data/raw/Bands to be dropped.xlsx')\n",
    "xl.head()"
   ]
  },
  {
   "cell_type": "code",
   "execution_count": 113,
   "metadata": {},
   "outputs": [
    {
     "data": {
      "text/plain": [
       "['001', '002', '003', '004', '005']"
      ]
     },
     "execution_count": 113,
     "metadata": {},
     "output_type": "execute_result"
    }
   ],
   "source": [
    "drop_bands = [f'{band:03d}' for band in xl['Bands to be dropped VNIR+ SWIR'].values.tolist()]\n",
    "drop_bands[:5]"
   ]
  },
  {
   "cell_type": "code",
   "execution_count": 114,
   "metadata": {},
   "outputs": [
    {
     "name": "stdout",
     "output_type": "stream",
     "text": [
      "No. of bands before dropping the not-required bands 239\n",
      "No. of bands after dropping the not-required bands 157\n"
     ]
    }
   ],
   "source": [
    "print(\"No. of bands before dropping the not-required bands\", len(vnir_cols.keys()))\n",
    "\n",
    "for band in drop_bands:\n",
    "    vnir_cols.pop(band, None)\n",
    "\n",
    "print(\"No. of bands after dropping the not-required bands\", len(vnir_cols.keys()))"
   ]
  },
  {
   "cell_type": "markdown",
   "metadata": {},
   "source": [
    "## PRISMA Data Conversion to Points Shapefile"
   ]
  },
  {
   "cell_type": "code",
   "execution_count": 115,
   "metadata": {},
   "outputs": [],
   "source": [
    "loc_cols.update(vnir_cols)"
   ]
  },
  {
   "cell_type": "code",
   "execution_count": 116,
   "metadata": {},
   "outputs": [
    {
     "data": {
      "text/html": [
       "<div>\n",
       "<style scoped>\n",
       "    .dataframe tbody tr th:only-of-type {\n",
       "        vertical-align: middle;\n",
       "    }\n",
       "\n",
       "    .dataframe tbody tr th {\n",
       "        vertical-align: top;\n",
       "    }\n",
       "\n",
       "    .dataframe thead th {\n",
       "        text-align: right;\n",
       "    }\n",
       "</style>\n",
       "<table border=\"1\" class=\"dataframe\">\n",
       "  <thead>\n",
       "    <tr style=\"text-align: right;\">\n",
       "      <th></th>\n",
       "      <th>010</th>\n",
       "      <th>011</th>\n",
       "      <th>012</th>\n",
       "      <th>013</th>\n",
       "      <th>014</th>\n",
       "      <th>015</th>\n",
       "      <th>016</th>\n",
       "      <th>017</th>\n",
       "      <th>018</th>\n",
       "      <th>019</th>\n",
       "      <th>...</th>\n",
       "      <th>214</th>\n",
       "      <th>215</th>\n",
       "      <th>216</th>\n",
       "      <th>217</th>\n",
       "      <th>218</th>\n",
       "      <th>219</th>\n",
       "      <th>220</th>\n",
       "      <th>221</th>\n",
       "      <th>Latitude</th>\n",
       "      <th>Longitude</th>\n",
       "    </tr>\n",
       "  </thead>\n",
       "  <tbody>\n",
       "    <tr>\n",
       "      <th>0</th>\n",
       "      <td>0</td>\n",
       "      <td>0</td>\n",
       "      <td>0</td>\n",
       "      <td>0</td>\n",
       "      <td>0</td>\n",
       "      <td>0</td>\n",
       "      <td>0</td>\n",
       "      <td>0</td>\n",
       "      <td>0</td>\n",
       "      <td>0</td>\n",
       "      <td>...</td>\n",
       "      <td>0</td>\n",
       "      <td>0</td>\n",
       "      <td>0</td>\n",
       "      <td>0</td>\n",
       "      <td>0</td>\n",
       "      <td>0</td>\n",
       "      <td>0</td>\n",
       "      <td>0</td>\n",
       "      <td>32.379356</td>\n",
       "      <td>-8.055904</td>\n",
       "    </tr>\n",
       "    <tr>\n",
       "      <th>1</th>\n",
       "      <td>0</td>\n",
       "      <td>0</td>\n",
       "      <td>0</td>\n",
       "      <td>0</td>\n",
       "      <td>0</td>\n",
       "      <td>0</td>\n",
       "      <td>0</td>\n",
       "      <td>0</td>\n",
       "      <td>0</td>\n",
       "      <td>0</td>\n",
       "      <td>...</td>\n",
       "      <td>0</td>\n",
       "      <td>0</td>\n",
       "      <td>0</td>\n",
       "      <td>0</td>\n",
       "      <td>0</td>\n",
       "      <td>0</td>\n",
       "      <td>0</td>\n",
       "      <td>0</td>\n",
       "      <td>32.379353</td>\n",
       "      <td>-8.055585</td>\n",
       "    </tr>\n",
       "    <tr>\n",
       "      <th>2</th>\n",
       "      <td>0</td>\n",
       "      <td>0</td>\n",
       "      <td>0</td>\n",
       "      <td>0</td>\n",
       "      <td>0</td>\n",
       "      <td>0</td>\n",
       "      <td>0</td>\n",
       "      <td>0</td>\n",
       "      <td>0</td>\n",
       "      <td>0</td>\n",
       "      <td>...</td>\n",
       "      <td>0</td>\n",
       "      <td>0</td>\n",
       "      <td>0</td>\n",
       "      <td>0</td>\n",
       "      <td>0</td>\n",
       "      <td>0</td>\n",
       "      <td>0</td>\n",
       "      <td>0</td>\n",
       "      <td>32.379351</td>\n",
       "      <td>-8.055267</td>\n",
       "    </tr>\n",
       "    <tr>\n",
       "      <th>3</th>\n",
       "      <td>0</td>\n",
       "      <td>0</td>\n",
       "      <td>0</td>\n",
       "      <td>0</td>\n",
       "      <td>0</td>\n",
       "      <td>0</td>\n",
       "      <td>0</td>\n",
       "      <td>0</td>\n",
       "      <td>0</td>\n",
       "      <td>0</td>\n",
       "      <td>...</td>\n",
       "      <td>0</td>\n",
       "      <td>0</td>\n",
       "      <td>0</td>\n",
       "      <td>0</td>\n",
       "      <td>0</td>\n",
       "      <td>0</td>\n",
       "      <td>0</td>\n",
       "      <td>0</td>\n",
       "      <td>32.379348</td>\n",
       "      <td>-8.054948</td>\n",
       "    </tr>\n",
       "    <tr>\n",
       "      <th>4</th>\n",
       "      <td>0</td>\n",
       "      <td>0</td>\n",
       "      <td>0</td>\n",
       "      <td>0</td>\n",
       "      <td>0</td>\n",
       "      <td>0</td>\n",
       "      <td>0</td>\n",
       "      <td>0</td>\n",
       "      <td>0</td>\n",
       "      <td>0</td>\n",
       "      <td>...</td>\n",
       "      <td>0</td>\n",
       "      <td>0</td>\n",
       "      <td>0</td>\n",
       "      <td>0</td>\n",
       "      <td>0</td>\n",
       "      <td>0</td>\n",
       "      <td>0</td>\n",
       "      <td>0</td>\n",
       "      <td>32.379346</td>\n",
       "      <td>-8.054629</td>\n",
       "    </tr>\n",
       "  </tbody>\n",
       "</table>\n",
       "<p>5 rows × 159 columns</p>\n",
       "</div>"
      ],
      "text/plain": [
       "   010  011  012  013  014  015  016  017  018  019  ...  214  215  216  217  \\\n",
       "0    0    0    0    0    0    0    0    0    0    0  ...    0    0    0    0   \n",
       "1    0    0    0    0    0    0    0    0    0    0  ...    0    0    0    0   \n",
       "2    0    0    0    0    0    0    0    0    0    0  ...    0    0    0    0   \n",
       "3    0    0    0    0    0    0    0    0    0    0  ...    0    0    0    0   \n",
       "4    0    0    0    0    0    0    0    0    0    0  ...    0    0    0    0   \n",
       "\n",
       "   218  219  220  221   Latitude  Longitude  \n",
       "0    0    0    0    0  32.379356  -8.055904  \n",
       "1    0    0    0    0  32.379353  -8.055585  \n",
       "2    0    0    0    0  32.379351  -8.055267  \n",
       "3    0    0    0    0  32.379348  -8.054948  \n",
       "4    0    0    0    0  32.379346  -8.054629  \n",
       "\n",
       "[5 rows x 159 columns]"
      ]
     },
     "execution_count": 116,
     "metadata": {},
     "output_type": "execute_result"
    }
   ],
   "source": [
    "points_df = pd.DataFrame.from_records(loc_cols)\n",
    "points_df.head()"
   ]
  },
  {
   "cell_type": "code",
   "execution_count": null,
   "metadata": {},
   "outputs": [],
   "source": [
    "# df.to_csv('../data/prisma-l2d-standard.csv', index=False)"
   ]
  },
  {
   "cell_type": "code",
   "execution_count": 117,
   "metadata": {},
   "outputs": [
    {
     "data": {
      "text/html": [
       "<div>\n",
       "<style scoped>\n",
       "    .dataframe tbody tr th:only-of-type {\n",
       "        vertical-align: middle;\n",
       "    }\n",
       "\n",
       "    .dataframe tbody tr th {\n",
       "        vertical-align: top;\n",
       "    }\n",
       "\n",
       "    .dataframe thead th {\n",
       "        text-align: right;\n",
       "    }\n",
       "</style>\n",
       "<table border=\"1\" class=\"dataframe\">\n",
       "  <thead>\n",
       "    <tr style=\"text-align: right;\">\n",
       "      <th></th>\n",
       "      <th>010</th>\n",
       "      <th>011</th>\n",
       "      <th>012</th>\n",
       "      <th>013</th>\n",
       "      <th>014</th>\n",
       "      <th>015</th>\n",
       "      <th>016</th>\n",
       "      <th>017</th>\n",
       "      <th>018</th>\n",
       "      <th>019</th>\n",
       "      <th>...</th>\n",
       "      <th>215</th>\n",
       "      <th>216</th>\n",
       "      <th>217</th>\n",
       "      <th>218</th>\n",
       "      <th>219</th>\n",
       "      <th>220</th>\n",
       "      <th>221</th>\n",
       "      <th>Latitude</th>\n",
       "      <th>Longitude</th>\n",
       "      <th>geometry</th>\n",
       "    </tr>\n",
       "  </thead>\n",
       "  <tbody>\n",
       "    <tr>\n",
       "      <th>0</th>\n",
       "      <td>0</td>\n",
       "      <td>0</td>\n",
       "      <td>0</td>\n",
       "      <td>0</td>\n",
       "      <td>0</td>\n",
       "      <td>0</td>\n",
       "      <td>0</td>\n",
       "      <td>0</td>\n",
       "      <td>0</td>\n",
       "      <td>0</td>\n",
       "      <td>...</td>\n",
       "      <td>0</td>\n",
       "      <td>0</td>\n",
       "      <td>0</td>\n",
       "      <td>0</td>\n",
       "      <td>0</td>\n",
       "      <td>0</td>\n",
       "      <td>0</td>\n",
       "      <td>32.379356</td>\n",
       "      <td>-8.055904</td>\n",
       "      <td>POINT (-8.05590 32.37936)</td>\n",
       "    </tr>\n",
       "    <tr>\n",
       "      <th>1</th>\n",
       "      <td>0</td>\n",
       "      <td>0</td>\n",
       "      <td>0</td>\n",
       "      <td>0</td>\n",
       "      <td>0</td>\n",
       "      <td>0</td>\n",
       "      <td>0</td>\n",
       "      <td>0</td>\n",
       "      <td>0</td>\n",
       "      <td>0</td>\n",
       "      <td>...</td>\n",
       "      <td>0</td>\n",
       "      <td>0</td>\n",
       "      <td>0</td>\n",
       "      <td>0</td>\n",
       "      <td>0</td>\n",
       "      <td>0</td>\n",
       "      <td>0</td>\n",
       "      <td>32.379353</td>\n",
       "      <td>-8.055585</td>\n",
       "      <td>POINT (-8.05559 32.37935)</td>\n",
       "    </tr>\n",
       "    <tr>\n",
       "      <th>2</th>\n",
       "      <td>0</td>\n",
       "      <td>0</td>\n",
       "      <td>0</td>\n",
       "      <td>0</td>\n",
       "      <td>0</td>\n",
       "      <td>0</td>\n",
       "      <td>0</td>\n",
       "      <td>0</td>\n",
       "      <td>0</td>\n",
       "      <td>0</td>\n",
       "      <td>...</td>\n",
       "      <td>0</td>\n",
       "      <td>0</td>\n",
       "      <td>0</td>\n",
       "      <td>0</td>\n",
       "      <td>0</td>\n",
       "      <td>0</td>\n",
       "      <td>0</td>\n",
       "      <td>32.379351</td>\n",
       "      <td>-8.055267</td>\n",
       "      <td>POINT (-8.05527 32.37935)</td>\n",
       "    </tr>\n",
       "    <tr>\n",
       "      <th>3</th>\n",
       "      <td>0</td>\n",
       "      <td>0</td>\n",
       "      <td>0</td>\n",
       "      <td>0</td>\n",
       "      <td>0</td>\n",
       "      <td>0</td>\n",
       "      <td>0</td>\n",
       "      <td>0</td>\n",
       "      <td>0</td>\n",
       "      <td>0</td>\n",
       "      <td>...</td>\n",
       "      <td>0</td>\n",
       "      <td>0</td>\n",
       "      <td>0</td>\n",
       "      <td>0</td>\n",
       "      <td>0</td>\n",
       "      <td>0</td>\n",
       "      <td>0</td>\n",
       "      <td>32.379348</td>\n",
       "      <td>-8.054948</td>\n",
       "      <td>POINT (-8.05495 32.37935)</td>\n",
       "    </tr>\n",
       "    <tr>\n",
       "      <th>4</th>\n",
       "      <td>0</td>\n",
       "      <td>0</td>\n",
       "      <td>0</td>\n",
       "      <td>0</td>\n",
       "      <td>0</td>\n",
       "      <td>0</td>\n",
       "      <td>0</td>\n",
       "      <td>0</td>\n",
       "      <td>0</td>\n",
       "      <td>0</td>\n",
       "      <td>...</td>\n",
       "      <td>0</td>\n",
       "      <td>0</td>\n",
       "      <td>0</td>\n",
       "      <td>0</td>\n",
       "      <td>0</td>\n",
       "      <td>0</td>\n",
       "      <td>0</td>\n",
       "      <td>32.379346</td>\n",
       "      <td>-8.054629</td>\n",
       "      <td>POINT (-8.05463 32.37935)</td>\n",
       "    </tr>\n",
       "  </tbody>\n",
       "</table>\n",
       "<p>5 rows × 160 columns</p>\n",
       "</div>"
      ],
      "text/plain": [
       "   010  011  012  013  014  015  016  017  018  019  ...  215  216  217  218  \\\n",
       "0    0    0    0    0    0    0    0    0    0    0  ...    0    0    0    0   \n",
       "1    0    0    0    0    0    0    0    0    0    0  ...    0    0    0    0   \n",
       "2    0    0    0    0    0    0    0    0    0    0  ...    0    0    0    0   \n",
       "3    0    0    0    0    0    0    0    0    0    0  ...    0    0    0    0   \n",
       "4    0    0    0    0    0    0    0    0    0    0  ...    0    0    0    0   \n",
       "\n",
       "   219  220  221   Latitude  Longitude                   geometry  \n",
       "0    0    0    0  32.379356  -8.055904  POINT (-8.05590 32.37936)  \n",
       "1    0    0    0  32.379353  -8.055585  POINT (-8.05559 32.37935)  \n",
       "2    0    0    0  32.379351  -8.055267  POINT (-8.05527 32.37935)  \n",
       "3    0    0    0  32.379348  -8.054948  POINT (-8.05495 32.37935)  \n",
       "4    0    0    0  32.379346  -8.054629  POINT (-8.05463 32.37935)  \n",
       "\n",
       "[5 rows x 160 columns]"
      ]
     },
     "execution_count": 117,
     "metadata": {},
     "output_type": "execute_result"
    }
   ],
   "source": [
    "points_gdf = gpd.GeoDataFrame(points_df, geometry=gpd.points_from_xy(points_df['Longitude'], points_df['Latitude']))\n",
    "points_gdf.head()"
   ]
  },
  {
   "cell_type": "markdown",
   "metadata": {},
   "source": [
    "## Filter points that lie within the Study Area"
   ]
  },
  {
   "cell_type": "code",
   "execution_count": 119,
   "metadata": {},
   "outputs": [
    {
     "data": {
      "text/html": [
       "<div>\n",
       "<style scoped>\n",
       "    .dataframe tbody tr th:only-of-type {\n",
       "        vertical-align: middle;\n",
       "    }\n",
       "\n",
       "    .dataframe tbody tr th {\n",
       "        vertical-align: top;\n",
       "    }\n",
       "\n",
       "    .dataframe thead th {\n",
       "        text-align: right;\n",
       "    }\n",
       "</style>\n",
       "<table border=\"1\" class=\"dataframe\">\n",
       "  <thead>\n",
       "    <tr style=\"text-align: right;\">\n",
       "      <th></th>\n",
       "      <th>id</th>\n",
       "      <th>Area</th>\n",
       "      <th>Superficie</th>\n",
       "      <th>geometry</th>\n",
       "    </tr>\n",
       "  </thead>\n",
       "  <tbody>\n",
       "    <tr>\n",
       "      <th>0</th>\n",
       "      <td>0</td>\n",
       "      <td>-7.824194</td>\n",
       "      <td>NaN</td>\n",
       "      <td>MULTIPOLYGON (((-7.86093 32.25646, -7.86095 32...</td>\n",
       "    </tr>\n",
       "    <tr>\n",
       "      <th>1</th>\n",
       "      <td>0</td>\n",
       "      <td>-7.862646</td>\n",
       "      <td>NaN</td>\n",
       "      <td>MULTIPOLYGON (((-7.86233 32.31288, -7.86242 32...</td>\n",
       "    </tr>\n",
       "    <tr>\n",
       "      <th>2</th>\n",
       "      <td>0</td>\n",
       "      <td>-7.845305</td>\n",
       "      <td>NaN</td>\n",
       "      <td>MULTIPOLYGON (((-7.84411 32.29912, -7.84431 32...</td>\n",
       "    </tr>\n",
       "    <tr>\n",
       "      <th>3</th>\n",
       "      <td>0</td>\n",
       "      <td>-7.836109</td>\n",
       "      <td>NaN</td>\n",
       "      <td>MULTIPOLYGON (((-7.83458 32.22158, -7.83453 32...</td>\n",
       "    </tr>\n",
       "    <tr>\n",
       "      <th>4</th>\n",
       "      <td>0</td>\n",
       "      <td>-7.807959</td>\n",
       "      <td>NaN</td>\n",
       "      <td>MULTIPOLYGON (((-7.80716 32.19210, -7.80718 32...</td>\n",
       "    </tr>\n",
       "  </tbody>\n",
       "</table>\n",
       "</div>"
      ],
      "text/plain": [
       "   id      Area  Superficie                                           geometry\n",
       "0   0 -7.824194         NaN  MULTIPOLYGON (((-7.86093 32.25646, -7.86095 32...\n",
       "1   0 -7.862646         NaN  MULTIPOLYGON (((-7.86233 32.31288, -7.86242 32...\n",
       "2   0 -7.845305         NaN  MULTIPOLYGON (((-7.84411 32.29912, -7.84431 32...\n",
       "3   0 -7.836109         NaN  MULTIPOLYGON (((-7.83458 32.22158, -7.83453 32...\n",
       "4   0 -7.807959         NaN  MULTIPOLYGON (((-7.80716 32.19210, -7.80718 32..."
      ]
     },
     "execution_count": 119,
     "metadata": {},
     "output_type": "execute_result"
    }
   ],
   "source": [
    "boundary = gpd.read_file('../data/raw/Shapefile Bengruir.gpkg')\n",
    "boundary"
   ]
  },
  {
   "cell_type": "code",
   "execution_count": 120,
   "metadata": {},
   "outputs": [
    {
     "data": {
      "text/plain": [
       "<Geographic 2D CRS: EPSG:4326>\n",
       "Name: WGS 84\n",
       "Axis Info [ellipsoidal]:\n",
       "- Lat[north]: Geodetic latitude (degree)\n",
       "- Lon[east]: Geodetic longitude (degree)\n",
       "Area of Use:\n",
       "- undefined\n",
       "Datum: World Geodetic System 1984\n",
       "- Ellipsoid: WGS 84\n",
       "- Prime Meridian: Greenwich"
      ]
     },
     "execution_count": 120,
     "metadata": {},
     "output_type": "execute_result"
    }
   ],
   "source": [
    "boundary.crs"
   ]
  },
  {
   "cell_type": "code",
   "execution_count": 121,
   "metadata": {},
   "outputs": [],
   "source": [
    "points_gdf.crs = boundary.crs"
   ]
  },
  {
   "cell_type": "code",
   "execution_count": 122,
   "metadata": {},
   "outputs": [
    {
     "data": {
      "text/plain": [
       "<AxesSubplot:>"
      ]
     },
     "execution_count": 122,
     "metadata": {},
     "output_type": "execute_result"
    },
    {
     "data": {
      "image/png": "[encoded data removed]",
      "text/plain": [
       "<Figure size 432x288 with 1 Axes>"
      ]
     },
     "metadata": {
      "needs_background": "light"
     },
     "output_type": "display_data"
    }
   ],
   "source": [
    "# Merge all the geometries (sub-polygons) of the study area into one geometry\n",
    "from shapely.ops import unary_union\n",
    "polygons = boundary.geometry.tolist()\n",
    "boundary_geom = gpd.GeoSeries(unary_union(polygons))\n",
    "boundary_geom.plot(color = 'red')"
   ]
  },
  {
   "cell_type": "code",
   "execution_count": 123,
   "metadata": {},
   "outputs": [],
   "source": [
    "# Assign the crs of boundary shapefile to boundary geometry\n",
    "boundary_geom.crs = boundary.crs"
   ]
  },
  {
   "cell_type": "code",
   "execution_count": 124,
   "metadata": {},
   "outputs": [
    {
     "data": {
      "text/plain": [
       "(67048, 160)"
      ]
     },
     "execution_count": 124,
     "metadata": {},
     "output_type": "execute_result"
    }
   ],
   "source": [
    "# Filter out (drop) all the points from PRISMA dataset that do not lie within the study area\n",
    "filter_points = points_gdf['geometry'].apply(lambda x: x.within(boundary_geom))\n",
    "points_gdf_filtered = points_gdf.loc[filter_points[0]]\n",
    "points_gdf_filtered = points_gdf_filtered.reset_index(drop=True)\n",
    "points_gdf_filtered.shape"
   ]
  },
  {
   "cell_type": "code",
   "execution_count": 125,
   "metadata": {},
   "outputs": [
    {
     "data": {
      "text/html": [
       "<div>\n",
       "<style scoped>\n",
       "    .dataframe tbody tr th:only-of-type {\n",
       "        vertical-align: middle;\n",
       "    }\n",
       "\n",
       "    .dataframe tbody tr th {\n",
       "        vertical-align: top;\n",
       "    }\n",
       "\n",
       "    .dataframe thead th {\n",
       "        text-align: right;\n",
       "    }\n",
       "</style>\n",
       "<table border=\"1\" class=\"dataframe\">\n",
       "  <thead>\n",
       "    <tr style=\"text-align: right;\">\n",
       "      <th></th>\n",
       "      <th>010</th>\n",
       "      <th>011</th>\n",
       "      <th>012</th>\n",
       "      <th>013</th>\n",
       "      <th>014</th>\n",
       "      <th>015</th>\n",
       "      <th>016</th>\n",
       "      <th>017</th>\n",
       "      <th>018</th>\n",
       "      <th>019</th>\n",
       "      <th>...</th>\n",
       "      <th>215</th>\n",
       "      <th>216</th>\n",
       "      <th>217</th>\n",
       "      <th>218</th>\n",
       "      <th>219</th>\n",
       "      <th>220</th>\n",
       "      <th>221</th>\n",
       "      <th>Latitude</th>\n",
       "      <th>Longitude</th>\n",
       "      <th>geometry</th>\n",
       "    </tr>\n",
       "  </thead>\n",
       "  <tbody>\n",
       "    <tr>\n",
       "      <th>0</th>\n",
       "      <td>22019</td>\n",
       "      <td>21109</td>\n",
       "      <td>21422</td>\n",
       "      <td>21789</td>\n",
       "      <td>21601</td>\n",
       "      <td>21765</td>\n",
       "      <td>22021</td>\n",
       "      <td>22636</td>\n",
       "      <td>22257</td>\n",
       "      <td>20986</td>\n",
       "      <td>...</td>\n",
       "      <td>25573</td>\n",
       "      <td>24117</td>\n",
       "      <td>25087</td>\n",
       "      <td>24392</td>\n",
       "      <td>20377</td>\n",
       "      <td>23907</td>\n",
       "      <td>24374</td>\n",
       "      <td>32.317932</td>\n",
       "      <td>-7.860228</td>\n",
       "      <td>POINT (-7.86023 32.31793)</td>\n",
       "    </tr>\n",
       "    <tr>\n",
       "      <th>1</th>\n",
       "      <td>30160</td>\n",
       "      <td>28992</td>\n",
       "      <td>29384</td>\n",
       "      <td>29884</td>\n",
       "      <td>29687</td>\n",
       "      <td>30020</td>\n",
       "      <td>30373</td>\n",
       "      <td>31311</td>\n",
       "      <td>30730</td>\n",
       "      <td>29000</td>\n",
       "      <td>...</td>\n",
       "      <td>33464</td>\n",
       "      <td>31632</td>\n",
       "      <td>33151</td>\n",
       "      <td>32133</td>\n",
       "      <td>26892</td>\n",
       "      <td>31565</td>\n",
       "      <td>32205</td>\n",
       "      <td>32.317929</td>\n",
       "      <td>-7.859909</td>\n",
       "      <td>POINT (-7.85991 32.31793)</td>\n",
       "    </tr>\n",
       "    <tr>\n",
       "      <th>2</th>\n",
       "      <td>22724</td>\n",
       "      <td>21714</td>\n",
       "      <td>21994</td>\n",
       "      <td>22184</td>\n",
       "      <td>22101</td>\n",
       "      <td>22258</td>\n",
       "      <td>22596</td>\n",
       "      <td>23141</td>\n",
       "      <td>22844</td>\n",
       "      <td>21550</td>\n",
       "      <td>...</td>\n",
       "      <td>26485</td>\n",
       "      <td>25194</td>\n",
       "      <td>26760</td>\n",
       "      <td>25788</td>\n",
       "      <td>21626</td>\n",
       "      <td>24990</td>\n",
       "      <td>25354</td>\n",
       "      <td>32.317664</td>\n",
       "      <td>-7.860550</td>\n",
       "      <td>POINT (-7.86055 32.31766)</td>\n",
       "    </tr>\n",
       "    <tr>\n",
       "      <th>3</th>\n",
       "      <td>30914</td>\n",
       "      <td>29601</td>\n",
       "      <td>30015</td>\n",
       "      <td>30396</td>\n",
       "      <td>30025</td>\n",
       "      <td>30544</td>\n",
       "      <td>30963</td>\n",
       "      <td>31788</td>\n",
       "      <td>31356</td>\n",
       "      <td>29548</td>\n",
       "      <td>...</td>\n",
       "      <td>34092</td>\n",
       "      <td>32179</td>\n",
       "      <td>34337</td>\n",
       "      <td>33050</td>\n",
       "      <td>27768</td>\n",
       "      <td>32344</td>\n",
       "      <td>32923</td>\n",
       "      <td>32.317661</td>\n",
       "      <td>-7.860231</td>\n",
       "      <td>POINT (-7.86023 32.31766)</td>\n",
       "    </tr>\n",
       "    <tr>\n",
       "      <th>4</th>\n",
       "      <td>36690</td>\n",
       "      <td>35164</td>\n",
       "      <td>35444</td>\n",
       "      <td>36082</td>\n",
       "      <td>35634</td>\n",
       "      <td>36241</td>\n",
       "      <td>36482</td>\n",
       "      <td>37523</td>\n",
       "      <td>36902</td>\n",
       "      <td>34595</td>\n",
       "      <td>...</td>\n",
       "      <td>40149</td>\n",
       "      <td>38517</td>\n",
       "      <td>40720</td>\n",
       "      <td>39073</td>\n",
       "      <td>33024</td>\n",
       "      <td>38235</td>\n",
       "      <td>38851</td>\n",
       "      <td>32.317659</td>\n",
       "      <td>-7.859912</td>\n",
       "      <td>POINT (-7.85991 32.31766)</td>\n",
       "    </tr>\n",
       "  </tbody>\n",
       "</table>\n",
       "<p>5 rows × 160 columns</p>\n",
       "</div>"
      ],
      "text/plain": [
       "     010    011    012    013    014    015    016    017    018    019  ...  \\\n",
       "0  22019  21109  21422  21789  21601  21765  22021  22636  22257  20986  ...   \n",
       "1  30160  28992  29384  29884  29687  30020  30373  31311  30730  29000  ...   \n",
       "2  22724  21714  21994  22184  22101  22258  22596  23141  22844  21550  ...   \n",
       "3  30914  29601  30015  30396  30025  30544  30963  31788  31356  29548  ...   \n",
       "4  36690  35164  35444  36082  35634  36241  36482  37523  36902  34595  ...   \n",
       "\n",
       "     215    216    217    218    219    220    221   Latitude  Longitude  \\\n",
       "0  25573  24117  25087  24392  20377  23907  24374  32.317932  -7.860228   \n",
       "1  33464  31632  33151  32133  26892  31565  32205  32.317929  -7.859909   \n",
       "2  26485  25194  26760  25788  21626  24990  25354  32.317664  -7.860550   \n",
       "3  34092  32179  34337  33050  27768  32344  32923  32.317661  -7.860231   \n",
       "4  40149  38517  40720  39073  33024  38235  38851  32.317659  -7.859912   \n",
       "\n",
       "                    geometry  \n",
       "0  POINT (-7.86023 32.31793)  \n",
       "1  POINT (-7.85991 32.31793)  \n",
       "2  POINT (-7.86055 32.31766)  \n",
       "3  POINT (-7.86023 32.31766)  \n",
       "4  POINT (-7.85991 32.31766)  \n",
       "\n",
       "[5 rows x 160 columns]"
      ]
     },
     "execution_count": 125,
     "metadata": {},
     "output_type": "execute_result"
    }
   ],
   "source": [
    "points_gdf_filtered.head()"
   ]
  },
  {
   "cell_type": "code",
   "execution_count": 126,
   "metadata": {},
   "outputs": [],
   "source": [
    "points_gdf_filtered.to_file('../data/wip/prisma-l2d-standard-study-area.gpkg', driver='GPKG')"
   ]
  },
  {
   "cell_type": "markdown",
   "metadata": {},
   "source": [
    "## Prepare Training Data"
   ]
  },
  {
   "cell_type": "code",
   "execution_count": 127,
   "metadata": {},
   "outputs": [
    {
     "data": {
      "text/html": [
       "<div>\n",
       "<style scoped>\n",
       "    .dataframe tbody tr th:only-of-type {\n",
       "        vertical-align: middle;\n",
       "    }\n",
       "\n",
       "    .dataframe tbody tr th {\n",
       "        vertical-align: top;\n",
       "    }\n",
       "\n",
       "    .dataframe thead th {\n",
       "        text-align: right;\n",
       "    }\n",
       "</style>\n",
       "<table border=\"1\" class=\"dataframe\">\n",
       "  <thead>\n",
       "    <tr style=\"text-align: right;\">\n",
       "      <th></th>\n",
       "      <th>X</th>\n",
       "      <th>Y</th>\n",
       "      <th>Name</th>\n",
       "      <th>Lithology</th>\n",
       "    </tr>\n",
       "  </thead>\n",
       "  <tbody>\n",
       "    <tr>\n",
       "      <th>0</th>\n",
       "      <td>-7.816613</td>\n",
       "      <td>32.273294</td>\n",
       "      <td>VL429</td>\n",
       "      <td>Lm-Ml-Sl</td>\n",
       "    </tr>\n",
       "    <tr>\n",
       "      <th>1</th>\n",
       "      <td>-7.822500</td>\n",
       "      <td>32.242782</td>\n",
       "      <td>VL431</td>\n",
       "      <td>Lm-Ml-Sl</td>\n",
       "    </tr>\n",
       "    <tr>\n",
       "      <th>2</th>\n",
       "      <td>-7.840861</td>\n",
       "      <td>32.271502</td>\n",
       "      <td>VL410</td>\n",
       "      <td>Lm-Ml-Sl</td>\n",
       "    </tr>\n",
       "    <tr>\n",
       "      <th>3</th>\n",
       "      <td>-7.838604</td>\n",
       "      <td>32.277138</td>\n",
       "      <td>VL411</td>\n",
       "      <td>Lm-Ml-Sl</td>\n",
       "    </tr>\n",
       "    <tr>\n",
       "      <th>4</th>\n",
       "      <td>-7.836013</td>\n",
       "      <td>32.275857</td>\n",
       "      <td>VL412</td>\n",
       "      <td>Lm-Ml-Sl</td>\n",
       "    </tr>\n",
       "  </tbody>\n",
       "</table>\n",
       "</div>"
      ],
      "text/plain": [
       "          X          Y   Name Lithology\n",
       "0 -7.816613  32.273294  VL429  Lm-Ml-Sl\n",
       "1 -7.822500  32.242782  VL431  Lm-Ml-Sl\n",
       "2 -7.840861  32.271502  VL410  Lm-Ml-Sl\n",
       "3 -7.838604  32.277138  VL411  Lm-Ml-Sl\n",
       "4 -7.836013  32.275857  VL412  Lm-Ml-Sl"
      ]
     },
     "execution_count": 127,
     "metadata": {},
     "output_type": "execute_result"
    }
   ],
   "source": [
    "xlsx = \"../data/raw/RANDOM-ENVI-FILE.xlsx\"\n",
    "sample_df = pd.read_excel(xlsx)\n",
    "sample_df.head()"
   ]
  },
  {
   "cell_type": "code",
   "execution_count": 128,
   "metadata": {},
   "outputs": [
    {
     "data": {
      "text/plain": [
       "(103, 4)"
      ]
     },
     "execution_count": 128,
     "metadata": {},
     "output_type": "execute_result"
    }
   ],
   "source": [
    "sample_df.shape"
   ]
  },
  {
   "cell_type": "markdown",
   "metadata": {},
   "source": [
    "### Filter Out the 'Ip-Ps' Category from Training data"
   ]
  },
  {
   "cell_type": "code",
   "execution_count": 129,
   "metadata": {},
   "outputs": [
    {
     "data": {
      "text/plain": [
       "Lm-Ml-Ft    35\n",
       "Ml-Ps       25\n",
       "Lm-Ml       23\n",
       "Lm-Ml-Sl    15\n",
       "Ip-Ps        5\n",
       "Name: Lithology, dtype: int64"
      ]
     },
     "execution_count": 129,
     "metadata": {},
     "output_type": "execute_result"
    }
   ],
   "source": [
    "target_counts = sample_df['Lithology'].value_counts()\n",
    "target_counts"
   ]
  },
  {
   "cell_type": "code",
   "execution_count": 130,
   "metadata": {},
   "outputs": [
    {
     "data": {
      "text/plain": [
       "(98, 4)"
      ]
     },
     "execution_count": 130,
     "metadata": {},
     "output_type": "execute_result"
    }
   ],
   "source": [
    "sample_df = sample_df[sample_df['Lithology'] != \"Ip-Ps\"]\n",
    "sample_df.shape"
   ]
  },
  {
   "cell_type": "markdown",
   "metadata": {},
   "source": [
    "### Extract the Spectral band signature at sample locations (from Prisma data)"
   ]
  },
  {
   "cell_type": "code",
   "execution_count": 131,
   "metadata": {},
   "outputs": [
    {
     "data": {
      "text/html": [
       "<div>\n",
       "<style scoped>\n",
       "    .dataframe tbody tr th:only-of-type {\n",
       "        vertical-align: middle;\n",
       "    }\n",
       "\n",
       "    .dataframe tbody tr th {\n",
       "        vertical-align: top;\n",
       "    }\n",
       "\n",
       "    .dataframe thead th {\n",
       "        text-align: right;\n",
       "    }\n",
       "</style>\n",
       "<table border=\"1\" class=\"dataframe\">\n",
       "  <thead>\n",
       "    <tr style=\"text-align: right;\">\n",
       "      <th></th>\n",
       "      <th>X</th>\n",
       "      <th>Y</th>\n",
       "      <th>Name</th>\n",
       "      <th>Lithology</th>\n",
       "      <th>geometry</th>\n",
       "    </tr>\n",
       "  </thead>\n",
       "  <tbody>\n",
       "    <tr>\n",
       "      <th>0</th>\n",
       "      <td>-7.816613</td>\n",
       "      <td>32.273294</td>\n",
       "      <td>VL429</td>\n",
       "      <td>Lm-Ml-Sl</td>\n",
       "      <td>POINT (-7.81661 32.27329)</td>\n",
       "    </tr>\n",
       "    <tr>\n",
       "      <th>1</th>\n",
       "      <td>-7.822500</td>\n",
       "      <td>32.242782</td>\n",
       "      <td>VL431</td>\n",
       "      <td>Lm-Ml-Sl</td>\n",
       "      <td>POINT (-7.82250 32.24278)</td>\n",
       "    </tr>\n",
       "    <tr>\n",
       "      <th>2</th>\n",
       "      <td>-7.840861</td>\n",
       "      <td>32.271502</td>\n",
       "      <td>VL410</td>\n",
       "      <td>Lm-Ml-Sl</td>\n",
       "      <td>POINT (-7.84086 32.27150)</td>\n",
       "    </tr>\n",
       "    <tr>\n",
       "      <th>3</th>\n",
       "      <td>-7.838604</td>\n",
       "      <td>32.277138</td>\n",
       "      <td>VL411</td>\n",
       "      <td>Lm-Ml-Sl</td>\n",
       "      <td>POINT (-7.83860 32.27714)</td>\n",
       "    </tr>\n",
       "    <tr>\n",
       "      <th>4</th>\n",
       "      <td>-7.836013</td>\n",
       "      <td>32.275857</td>\n",
       "      <td>VL412</td>\n",
       "      <td>Lm-Ml-Sl</td>\n",
       "      <td>POINT (-7.83601 32.27586)</td>\n",
       "    </tr>\n",
       "  </tbody>\n",
       "</table>\n",
       "</div>"
      ],
      "text/plain": [
       "          X          Y   Name Lithology                   geometry\n",
       "0 -7.816613  32.273294  VL429  Lm-Ml-Sl  POINT (-7.81661 32.27329)\n",
       "1 -7.822500  32.242782  VL431  Lm-Ml-Sl  POINT (-7.82250 32.24278)\n",
       "2 -7.840861  32.271502  VL410  Lm-Ml-Sl  POINT (-7.84086 32.27150)\n",
       "3 -7.838604  32.277138  VL411  Lm-Ml-Sl  POINT (-7.83860 32.27714)\n",
       "4 -7.836013  32.275857  VL412  Lm-Ml-Sl  POINT (-7.83601 32.27586)"
      ]
     },
     "execution_count": 131,
     "metadata": {},
     "output_type": "execute_result"
    }
   ],
   "source": [
    "sample_gdf = gpd.GeoDataFrame(sample_df, geometry=gpd.points_from_xy(sample_df['X'], sample_df['Y']))\n",
    "sample_gdf.head()"
   ]
  },
  {
   "cell_type": "code",
   "execution_count": 132,
   "metadata": {},
   "outputs": [],
   "source": [
    "# Assign the projection of PRISM vector file to the samples vector file.\n",
    "sample_gdf.crs = points_gdf.crs"
   ]
  },
  {
   "cell_type": "code",
   "execution_count": 133,
   "metadata": {},
   "outputs": [
    {
     "name": "stderr",
     "output_type": "stream",
     "text": [
      "/Users/samashti/opt/miniforge3/envs/myenv/lib/python3.9/site-packages/geopandas/array.py:365: UserWarning: Geometry is in a geographic CRS. Results from 'sjoin_nearest' are likely incorrect. Use 'GeoSeries.to_crs()' to re-project geometries to a projected CRS before this operation.\n",
      "\n",
      "  warnings.warn(\n"
     ]
    },
    {
     "data": {
      "text/html": [
       "<div>\n",
       "<style scoped>\n",
       "    .dataframe tbody tr th:only-of-type {\n",
       "        vertical-align: middle;\n",
       "    }\n",
       "\n",
       "    .dataframe tbody tr th {\n",
       "        vertical-align: top;\n",
       "    }\n",
       "\n",
       "    .dataframe thead th {\n",
       "        text-align: right;\n",
       "    }\n",
       "</style>\n",
       "<table border=\"1\" class=\"dataframe\">\n",
       "  <thead>\n",
       "    <tr style=\"text-align: right;\">\n",
       "      <th></th>\n",
       "      <th>X</th>\n",
       "      <th>Y</th>\n",
       "      <th>Name</th>\n",
       "      <th>Lithology</th>\n",
       "      <th>geometry</th>\n",
       "      <th>index_right</th>\n",
       "      <th>010</th>\n",
       "      <th>011</th>\n",
       "      <th>012</th>\n",
       "      <th>013</th>\n",
       "      <th>...</th>\n",
       "      <th>214</th>\n",
       "      <th>215</th>\n",
       "      <th>216</th>\n",
       "      <th>217</th>\n",
       "      <th>218</th>\n",
       "      <th>219</th>\n",
       "      <th>220</th>\n",
       "      <th>221</th>\n",
       "      <th>Latitude</th>\n",
       "      <th>Longitude</th>\n",
       "    </tr>\n",
       "  </thead>\n",
       "  <tbody>\n",
       "    <tr>\n",
       "      <th>0</th>\n",
       "      <td>-7.816613</td>\n",
       "      <td>32.273294</td>\n",
       "      <td>VL429</td>\n",
       "      <td>Lm-Ml-Sl</td>\n",
       "      <td>POINT (-7.81661 32.27329)</td>\n",
       "      <td>460787</td>\n",
       "      <td>23731</td>\n",
       "      <td>22772</td>\n",
       "      <td>22866</td>\n",
       "      <td>23430</td>\n",
       "      <td>...</td>\n",
       "      <td>27279</td>\n",
       "      <td>27922</td>\n",
       "      <td>26596</td>\n",
       "      <td>26651</td>\n",
       "      <td>27078</td>\n",
       "      <td>21416</td>\n",
       "      <td>25345</td>\n",
       "      <td>26311</td>\n",
       "      <td>32.273419</td>\n",
       "      <td>-7.816509</td>\n",
       "    </tr>\n",
       "    <tr>\n",
       "      <th>1</th>\n",
       "      <td>-7.822500</td>\n",
       "      <td>32.242782</td>\n",
       "      <td>VL431</td>\n",
       "      <td>Lm-Ml-Sl</td>\n",
       "      <td>POINT (-7.82250 32.24278)</td>\n",
       "      <td>596143</td>\n",
       "      <td>31334</td>\n",
       "      <td>30113</td>\n",
       "      <td>30321</td>\n",
       "      <td>30956</td>\n",
       "      <td>...</td>\n",
       "      <td>35871</td>\n",
       "      <td>36647</td>\n",
       "      <td>34757</td>\n",
       "      <td>35778</td>\n",
       "      <td>35748</td>\n",
       "      <td>29069</td>\n",
       "      <td>33900</td>\n",
       "      <td>34440</td>\n",
       "      <td>32.242896</td>\n",
       "      <td>-7.822636</td>\n",
       "    </tr>\n",
       "    <tr>\n",
       "      <th>2</th>\n",
       "      <td>-7.840861</td>\n",
       "      <td>32.271502</td>\n",
       "      <td>VL410</td>\n",
       "      <td>Lm-Ml-Sl</td>\n",
       "      <td>POINT (-7.84086 32.27150)</td>\n",
       "      <td>470295</td>\n",
       "      <td>39900</td>\n",
       "      <td>38061</td>\n",
       "      <td>38502</td>\n",
       "      <td>39196</td>\n",
       "      <td>...</td>\n",
       "      <td>42838</td>\n",
       "      <td>43695</td>\n",
       "      <td>41713</td>\n",
       "      <td>43342</td>\n",
       "      <td>42869</td>\n",
       "      <td>36174</td>\n",
       "      <td>42101</td>\n",
       "      <td>42191</td>\n",
       "      <td>32.271479</td>\n",
       "      <td>-7.840742</td>\n",
       "    </tr>\n",
       "    <tr>\n",
       "      <th>3</th>\n",
       "      <td>-7.838604</td>\n",
       "      <td>32.277138</td>\n",
       "      <td>VL411</td>\n",
       "      <td>Lm-Ml-Sl</td>\n",
       "      <td>POINT (-7.83860 32.27714)</td>\n",
       "      <td>445143</td>\n",
       "      <td>31106</td>\n",
       "      <td>29605</td>\n",
       "      <td>30013</td>\n",
       "      <td>30694</td>\n",
       "      <td>...</td>\n",
       "      <td>34560</td>\n",
       "      <td>34960</td>\n",
       "      <td>33553</td>\n",
       "      <td>34638</td>\n",
       "      <td>33631</td>\n",
       "      <td>28749</td>\n",
       "      <td>33658</td>\n",
       "      <td>33904</td>\n",
       "      <td>32.277144</td>\n",
       "      <td>-7.838758</td>\n",
       "    </tr>\n",
       "    <tr>\n",
       "      <th>4</th>\n",
       "      <td>-7.836013</td>\n",
       "      <td>32.275857</td>\n",
       "      <td>VL412</td>\n",
       "      <td>Lm-Ml-Sl</td>\n",
       "      <td>POINT (-7.83601 32.27586)</td>\n",
       "      <td>451142</td>\n",
       "      <td>43764</td>\n",
       "      <td>41758</td>\n",
       "      <td>42124</td>\n",
       "      <td>43029</td>\n",
       "      <td>...</td>\n",
       "      <td>47976</td>\n",
       "      <td>48896</td>\n",
       "      <td>46880</td>\n",
       "      <td>49021</td>\n",
       "      <td>48253</td>\n",
       "      <td>40303</td>\n",
       "      <td>46561</td>\n",
       "      <td>46961</td>\n",
       "      <td>32.275764</td>\n",
       "      <td>-7.835909</td>\n",
       "    </tr>\n",
       "  </tbody>\n",
       "</table>\n",
       "<p>5 rows × 165 columns</p>\n",
       "</div>"
      ],
      "text/plain": [
       "          X          Y   Name Lithology                   geometry  \\\n",
       "0 -7.816613  32.273294  VL429  Lm-Ml-Sl  POINT (-7.81661 32.27329)   \n",
       "1 -7.822500  32.242782  VL431  Lm-Ml-Sl  POINT (-7.82250 32.24278)   \n",
       "2 -7.840861  32.271502  VL410  Lm-Ml-Sl  POINT (-7.84086 32.27150)   \n",
       "3 -7.838604  32.277138  VL411  Lm-Ml-Sl  POINT (-7.83860 32.27714)   \n",
       "4 -7.836013  32.275857  VL412  Lm-Ml-Sl  POINT (-7.83601 32.27586)   \n",
       "\n",
       "   index_right    010    011    012    013  ...    214    215    216    217  \\\n",
       "0       460787  23731  22772  22866  23430  ...  27279  27922  26596  26651   \n",
       "1       596143  31334  30113  30321  30956  ...  35871  36647  34757  35778   \n",
       "2       470295  39900  38061  38502  39196  ...  42838  43695  41713  43342   \n",
       "3       445143  31106  29605  30013  30694  ...  34560  34960  33553  34638   \n",
       "4       451142  43764  41758  42124  43029  ...  47976  48896  46880  49021   \n",
       "\n",
       "     218    219    220    221   Latitude  Longitude  \n",
       "0  27078  21416  25345  26311  32.273419  -7.816509  \n",
       "1  35748  29069  33900  34440  32.242896  -7.822636  \n",
       "2  42869  36174  42101  42191  32.271479  -7.840742  \n",
       "3  33631  28749  33658  33904  32.277144  -7.838758  \n",
       "4  48253  40303  46561  46961  32.275764  -7.835909  \n",
       "\n",
       "[5 rows x 165 columns]"
      ]
     },
     "execution_count": 133,
     "metadata": {},
     "output_type": "execute_result"
    }
   ],
   "source": [
    "# Extract spectral signature values at sample locations\n",
    "train_df = gpd.sjoin_nearest(sample_gdf, points_gdf, how='left')\n",
    "train_df.head()"
   ]
  },
  {
   "cell_type": "markdown",
   "metadata": {},
   "source": [
    "### DROP extra columns and export the vector file"
   ]
  },
  {
   "cell_type": "code",
   "execution_count": 134,
   "metadata": {},
   "outputs": [],
   "source": [
    "train_df.drop(columns=['index_right', 'Latitude', 'Longitude'], inplace=True)"
   ]
  },
  {
   "cell_type": "code",
   "execution_count": 135,
   "metadata": {},
   "outputs": [],
   "source": [
    "train_df.to_file('../data/wip/ml-training-data.gpkg', driver='GPKG')"
   ]
  },
  {
   "cell_type": "markdown",
   "metadata": {},
   "source": [
    "### DROP the extra columns and export the training data file"
   ]
  },
  {
   "cell_type": "code",
   "execution_count": 139,
   "metadata": {},
   "outputs": [],
   "source": [
    "train_df.drop(columns=['X', 'Y', 'Name', 'geometry'], inplace=True)"
   ]
  },
  {
   "cell_type": "code",
   "execution_count": 140,
   "metadata": {},
   "outputs": [
    {
     "data": {
      "text/plain": [
       "Lm-Ml-Ft    35\n",
       "Ml-Ps       25\n",
       "Lm-Ml       23\n",
       "Lm-Ml-Sl    15\n",
       "Name: Lithology, dtype: int64"
      ]
     },
     "execution_count": 140,
     "metadata": {},
     "output_type": "execute_result"
    }
   ],
   "source": [
    "train_df['Lithology'].value_counts()"
   ]
  },
  {
   "cell_type": "code",
   "execution_count": 141,
   "metadata": {},
   "outputs": [
    {
     "data": {
      "text/plain": [
       "(98, 158)"
      ]
     },
     "execution_count": 141,
     "metadata": {},
     "output_type": "execute_result"
    }
   ],
   "source": [
    "train_df.shape"
   ]
  },
  {
   "cell_type": "code",
   "execution_count": 142,
   "metadata": {},
   "outputs": [
    {
     "data": {
      "text/html": [
       "<div>\n",
       "<style scoped>\n",
       "    .dataframe tbody tr th:only-of-type {\n",
       "        vertical-align: middle;\n",
       "    }\n",
       "\n",
       "    .dataframe tbody tr th {\n",
       "        vertical-align: top;\n",
       "    }\n",
       "\n",
       "    .dataframe thead th {\n",
       "        text-align: right;\n",
       "    }\n",
       "</style>\n",
       "<table border=\"1\" class=\"dataframe\">\n",
       "  <thead>\n",
       "    <tr style=\"text-align: right;\">\n",
       "      <th></th>\n",
       "      <th>Lithology</th>\n",
       "      <th>010</th>\n",
       "      <th>011</th>\n",
       "      <th>012</th>\n",
       "      <th>013</th>\n",
       "      <th>014</th>\n",
       "      <th>015</th>\n",
       "      <th>016</th>\n",
       "      <th>017</th>\n",
       "      <th>018</th>\n",
       "      <th>...</th>\n",
       "      <th>212</th>\n",
       "      <th>213</th>\n",
       "      <th>214</th>\n",
       "      <th>215</th>\n",
       "      <th>216</th>\n",
       "      <th>217</th>\n",
       "      <th>218</th>\n",
       "      <th>219</th>\n",
       "      <th>220</th>\n",
       "      <th>221</th>\n",
       "    </tr>\n",
       "  </thead>\n",
       "  <tbody>\n",
       "    <tr>\n",
       "      <th>0</th>\n",
       "      <td>Lm-Ml-Sl</td>\n",
       "      <td>23731</td>\n",
       "      <td>22772</td>\n",
       "      <td>22866</td>\n",
       "      <td>23430</td>\n",
       "      <td>23285</td>\n",
       "      <td>23961</td>\n",
       "      <td>24160</td>\n",
       "      <td>24961</td>\n",
       "      <td>24709</td>\n",
       "      <td>...</td>\n",
       "      <td>28358</td>\n",
       "      <td>27983</td>\n",
       "      <td>27279</td>\n",
       "      <td>27922</td>\n",
       "      <td>26596</td>\n",
       "      <td>26651</td>\n",
       "      <td>27078</td>\n",
       "      <td>21416</td>\n",
       "      <td>25345</td>\n",
       "      <td>26311</td>\n",
       "    </tr>\n",
       "    <tr>\n",
       "      <th>1</th>\n",
       "      <td>Lm-Ml-Sl</td>\n",
       "      <td>31334</td>\n",
       "      <td>30113</td>\n",
       "      <td>30321</td>\n",
       "      <td>30956</td>\n",
       "      <td>30733</td>\n",
       "      <td>31200</td>\n",
       "      <td>31807</td>\n",
       "      <td>32621</td>\n",
       "      <td>32382</td>\n",
       "      <td>...</td>\n",
       "      <td>37572</td>\n",
       "      <td>36975</td>\n",
       "      <td>35871</td>\n",
       "      <td>36647</td>\n",
       "      <td>34757</td>\n",
       "      <td>35778</td>\n",
       "      <td>35748</td>\n",
       "      <td>29069</td>\n",
       "      <td>33900</td>\n",
       "      <td>34440</td>\n",
       "    </tr>\n",
       "    <tr>\n",
       "      <th>2</th>\n",
       "      <td>Lm-Ml-Sl</td>\n",
       "      <td>39900</td>\n",
       "      <td>38061</td>\n",
       "      <td>38502</td>\n",
       "      <td>39196</td>\n",
       "      <td>38761</td>\n",
       "      <td>39378</td>\n",
       "      <td>39721</td>\n",
       "      <td>41141</td>\n",
       "      <td>40477</td>\n",
       "      <td>...</td>\n",
       "      <td>44715</td>\n",
       "      <td>43762</td>\n",
       "      <td>42838</td>\n",
       "      <td>43695</td>\n",
       "      <td>41713</td>\n",
       "      <td>43342</td>\n",
       "      <td>42869</td>\n",
       "      <td>36174</td>\n",
       "      <td>42101</td>\n",
       "      <td>42191</td>\n",
       "    </tr>\n",
       "    <tr>\n",
       "      <th>3</th>\n",
       "      <td>Lm-Ml-Sl</td>\n",
       "      <td>31106</td>\n",
       "      <td>29605</td>\n",
       "      <td>30013</td>\n",
       "      <td>30694</td>\n",
       "      <td>30599</td>\n",
       "      <td>30935</td>\n",
       "      <td>31288</td>\n",
       "      <td>32456</td>\n",
       "      <td>32009</td>\n",
       "      <td>...</td>\n",
       "      <td>36381</td>\n",
       "      <td>35685</td>\n",
       "      <td>34560</td>\n",
       "      <td>34960</td>\n",
       "      <td>33553</td>\n",
       "      <td>34638</td>\n",
       "      <td>33631</td>\n",
       "      <td>28749</td>\n",
       "      <td>33658</td>\n",
       "      <td>33904</td>\n",
       "    </tr>\n",
       "    <tr>\n",
       "      <th>4</th>\n",
       "      <td>Lm-Ml-Sl</td>\n",
       "      <td>43764</td>\n",
       "      <td>41758</td>\n",
       "      <td>42124</td>\n",
       "      <td>43029</td>\n",
       "      <td>42659</td>\n",
       "      <td>43490</td>\n",
       "      <td>43952</td>\n",
       "      <td>45418</td>\n",
       "      <td>45065</td>\n",
       "      <td>...</td>\n",
       "      <td>50479</td>\n",
       "      <td>49234</td>\n",
       "      <td>47976</td>\n",
       "      <td>48896</td>\n",
       "      <td>46880</td>\n",
       "      <td>49021</td>\n",
       "      <td>48253</td>\n",
       "      <td>40303</td>\n",
       "      <td>46561</td>\n",
       "      <td>46961</td>\n",
       "    </tr>\n",
       "  </tbody>\n",
       "</table>\n",
       "<p>5 rows × 158 columns</p>\n",
       "</div>"
      ],
      "text/plain": [
       "  Lithology    010    011    012    013    014    015    016    017    018  \\\n",
       "0  Lm-Ml-Sl  23731  22772  22866  23430  23285  23961  24160  24961  24709   \n",
       "1  Lm-Ml-Sl  31334  30113  30321  30956  30733  31200  31807  32621  32382   \n",
       "2  Lm-Ml-Sl  39900  38061  38502  39196  38761  39378  39721  41141  40477   \n",
       "3  Lm-Ml-Sl  31106  29605  30013  30694  30599  30935  31288  32456  32009   \n",
       "4  Lm-Ml-Sl  43764  41758  42124  43029  42659  43490  43952  45418  45065   \n",
       "\n",
       "   ...    212    213    214    215    216    217    218    219    220    221  \n",
       "0  ...  28358  27983  27279  27922  26596  26651  27078  21416  25345  26311  \n",
       "1  ...  37572  36975  35871  36647  34757  35778  35748  29069  33900  34440  \n",
       "2  ...  44715  43762  42838  43695  41713  43342  42869  36174  42101  42191  \n",
       "3  ...  36381  35685  34560  34960  33553  34638  33631  28749  33658  33904  \n",
       "4  ...  50479  49234  47976  48896  46880  49021  48253  40303  46561  46961  \n",
       "\n",
       "[5 rows x 158 columns]"
      ]
     },
     "execution_count": 142,
     "metadata": {},
     "output_type": "execute_result"
    }
   ],
   "source": [
    "train_df.head()"
   ]
  },
  {
   "cell_type": "code",
   "execution_count": 143,
   "metadata": {},
   "outputs": [],
   "source": [
    "train_df.to_csv('../data/ml-training-data.csv', index=False)"
   ]
  },
  {
   "cell_type": "code",
   "execution_count": null,
   "metadata": {},
   "outputs": [],
   "source": []
  }
 ],
 "metadata": {
  "kernelspec": {
   "display_name": "Python 3 (ipykernel)",
   "language": "python",
   "name": "python3"
  },
  "language_info": {
   "codemirror_mode": {
    "name": "ipython",
    "version": 3
   },
   "file_extension": ".py",
   "mimetype": "text/x-python",
   "name": "python",
   "nbconvert_exporter": "python",
   "pygments_lexer": "ipython3",
   "version": "3.11.5"
  }
 },
 "nbformat": 4,
 "nbformat_minor": 2
}
